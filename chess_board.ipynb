{
 "metadata": {
  "language_info": {
   "codemirror_mode": {
    "name": "ipython",
    "version": 3
   },
   "file_extension": ".py",
   "mimetype": "text/x-python",
   "name": "python",
   "nbconvert_exporter": "python",
   "pygments_lexer": "ipython3",
   "version": "3.9.0-final"
  },
  "orig_nbformat": 2,
  "kernelspec": {
   "name": "python3",
   "display_name": "Python 3",
   "language": "python"
  }
 },
 "nbformat": 4,
 "nbformat_minor": 2,
 "cells": [
  {
   "cell_type": "code",
   "execution_count": 3,
   "metadata": {},
   "outputs": [],
   "source": [
    "%matplotlib inline\n",
    "import numpy as np\n",
    "import matplotlib.pyplot as plt"
   ]
  },
  {
   "cell_type": "code",
   "execution_count": 160,
   "metadata": {},
   "outputs": [],
   "source": [
    "class ChessBoard:\n",
    "    def __init__(self):\n",
    "        self.grid = np.zeros((8, 8, 3))\n",
    "        self.white = (1,1,1)\n",
    "        self.red = (1,0,0)\n",
    "        self.blue = (0,0,1)\n",
    "        self.red_queen = tuple()\n",
    "        self.blue_queen = tuple()\n",
    "        self.create_board()\n",
    "\n",
    "    def create_board(self):\n",
    "        for x in range(len(self.grid)):\n",
    "    # print(x)\n",
    "            for y in range(len(self.grid[x])):\n",
    "        # print(y)\n",
    "                if (x + y) % 2 == 0:\n",
    "                    self.grid[x, y] = self.white\n",
    "\n",
    "        if self.red_queen:\n",
    "            self.grid[self.red_queen] = self.red\n",
    "        if self.blue_queen:\n",
    "            self.grid[self.blue_queen] = self.blue\n",
    "        # plt.imshow(self.grid)\n",
    "\n",
    "    def add_red(self, row, col):\n",
    "        self.red_queen = (row, col)\n",
    "        self.create_board()\n",
    "\n",
    "    def add_blue(self, row, col):\n",
    "        self.blue_queen = (row, col)\n",
    "        self.create_board()\n",
    "\n",
    "    def render(self):\n",
    "        plt.imshow(self.grid)\n",
    "\n",
    "    def is_under_attack(self):\n",
    "        if self.red_queen[0] == self.blue_queen[0] or self.red_queen[1] == self.blue_queen[1]:\n",
    "            print(\"1\")\n",
    "            return True\n",
    "        elif abs(self.red_queen[0] - self.red_queen[1]) == abs(self.blue_queen[0] - self.blue_queen[1]):\n",
    "            print(\"2\")\n",
    "            return True\n",
    "        else:\n",
    "            return False"
   ]
  },
  {
   "cell_type": "code",
   "execution_count": 164,
   "metadata": {},
   "outputs": [
    {
     "output_type": "stream",
     "name": "stdout",
     "text": [
      "RED Q (1, 1)\nBLUE Q (2, 6)\n"
     ]
    },
    {
     "output_type": "error",
     "ename": "AssertionError",
     "evalue": "",
     "traceback": [
      "\u001b[0;31m---------------------------------------------------------------------------\u001b[0m",
      "\u001b[0;31mAssertionError\u001b[0m                            Traceback (most recent call last)",
      "\u001b[0;32m<ipython-input-164-37491ea8d7b3>\u001b[0m in \u001b[0;36m<module>\u001b[0;34m\u001b[0m\n\u001b[1;32m      6\u001b[0m \u001b[0mprint\u001b[0m\u001b[0;34m(\u001b[0m\u001b[0;34m\"BLUE Q\"\u001b[0m\u001b[0;34m,\u001b[0m \u001b[0mboard\u001b[0m\u001b[0;34m.\u001b[0m\u001b[0mblue_queen\u001b[0m\u001b[0;34m)\u001b[0m\u001b[0;34m\u001b[0m\u001b[0;34m\u001b[0m\u001b[0m\n\u001b[1;32m      7\u001b[0m \u001b[0mboard\u001b[0m\u001b[0;34m.\u001b[0m\u001b[0mrender\u001b[0m\u001b[0;34m(\u001b[0m\u001b[0;34m)\u001b[0m\u001b[0;34m\u001b[0m\u001b[0;34m\u001b[0m\u001b[0m\n\u001b[0;32m----> 8\u001b[0;31m \u001b[0;32massert\u001b[0m \u001b[0mboard\u001b[0m\u001b[0;34m.\u001b[0m\u001b[0mis_under_attack\u001b[0m\u001b[0;34m(\u001b[0m\u001b[0;34m)\u001b[0m\u001b[0;34m\u001b[0m\u001b[0;34m\u001b[0m\u001b[0m\n\u001b[0m",
      "\u001b[0;31mAssertionError\u001b[0m: "
     ]
    }
   ],
   "source": [
    "board = ChessBoard()\n",
    "# board.create_board()\n",
    "board.add_red(1,1)\n",
    "print(\"RED Q\", board.red_queen)\n",
    "board.add_blue(2,6)\n",
    "print(\"BLUE Q\", board.blue_queen)\n",
    "board.render()\n",
    "board.is_under_attack()"
   ]
  },
  {
   "cell_type": "code",
   "execution_count": null,
   "metadata": {},
   "outputs": [],
   "source": []
  }
 ]
}